{
 "cells": [
  {
   "cell_type": "markdown",
   "metadata": {},
   "source": [
    "# Задача 5. Кластеризация"
   ]
  },
  {
   "cell_type": "markdown",
   "metadata": {},
   "source": [
    "Поставлены следующие задачи:\n",
    "- [X] Найти данные с количеством признаков хотя бы 50, на которых можно решить задачу кластеризации.\n",
    "- [ ] Выполнить разведочный анализ (**EDA**). При необходимости выполнить полезные преобразования данных.\n",
    "- [ ] Самостоятельно реализуйте один из алгоритмов кластеризации, например **K-means**.\n",
    "- [ ] Обучите модели кластеризации, используя свою реализацию, а также хотя бы две реализации из **sklearn** (**KMeans**, **Affinity Propogation**, **DBSCAN** и тд).\n",
    "- [ ] При обучении использовать **подбор гиперпараметров**.\n",
    "- [ ] Сравнить качество моделей: замерить скорость обучения, вычислить различные метрики качества.\n",
    "- [ ] * (**+3 балла**) Также снизить размерность данных с помощью метода главных компонент **PCA** и и понять качество дальнейшей кластеризации всеми использованными реализациями при различном количестве главных компонент.\n",
    "- [ ] * (**+2 балла**) Визуализировать данные снижением размерности до 2 или 3 с помощью **PCA** и **t-SNE**. В случае проблем с производительностью **t-SNE**, можно сначала до какой то степени снизить размерность с помощью **PCA**, а затем запустить **t-SNE**."
   ]
  },
  {
   "cell_type": "code",
   "execution_count": 4,
   "metadata": {},
   "outputs": [],
   "source": [
    "from sklearn.manifold import TSNE\n",
    "from sklearn.decomposition import PCA\n",
    "from sklearn.cluster import KMeans\n",
    "from sklearn.cluster import DBSCAN\n",
    "from sklearn.cluster import AffinityPropagation"
   ]
  },
  {
   "cell_type": "markdown",
   "metadata": {},
   "source": [
    "Был выбран датасет для классификации одежды. Оригинальные изображения предоставлены в слишком большом разрешении, поэтому при выполнении задания будут использоваться эти же изображения, но сжатые [ссылка](clothes_dataset)"
   ]
  },
  {
   "cell_type": "code",
   "execution_count": 5,
   "metadata": {},
   "outputs": [],
   "source": [
    "import pandas as pd\n",
    "\n",
    "filename = \"/home/alexander/clothes/images.csv\"\n",
    "csv_df = pd.read_csv(filename)"
   ]
  },
  {
   "cell_type": "code",
   "execution_count": 6,
   "metadata": {},
   "outputs": [
    {
     "data": {
      "application/vnd.microsoft.datawrangler.viewer.v0+json": {
       "columns": [
        {
         "name": "index",
         "rawType": "int64",
         "type": "integer"
        },
        {
         "name": "image",
         "rawType": "object",
         "type": "string"
        },
        {
         "name": "sender_id",
         "rawType": "int64",
         "type": "integer"
        },
        {
         "name": "label",
         "rawType": "object",
         "type": "string"
        },
        {
         "name": "kids",
         "rawType": "bool",
         "type": "boolean"
        }
       ],
       "conversionMethod": "pd.DataFrame",
       "ref": "a25d562a-ce12-4ae7-85cd-5cb5e51e7371",
       "rows": [
        [
         "0",
         "4285fab0-751a-4b74-8e9b-43af05deee22",
         "124",
         "Not sure",
         "False"
        ],
        [
         "1",
         "ea7b6656-3f84-4eb3-9099-23e623fc1018",
         "148",
         "T-Shirt",
         "False"
        ],
        [
         "2",
         "00627a3f-0477-401c-95eb-92642cbe078d",
         "94",
         "Not sure",
         "False"
        ],
        [
         "3",
         "ea2ffd4d-9b25-4ca8-9dc2-bd27f1cc59fa",
         "43",
         "T-Shirt",
         "False"
        ],
        [
         "4",
         "3b86d877-2b9e-4c8b-a6a2-1d87513309d0",
         "189",
         "Shoes",
         "False"
        ],
        [
         "5",
         "5d3a1404-697f-479f-9090-c1ecd0413d27",
         "138",
         "Shorts",
         "False"
        ],
        [
         "6",
         "b0c03127-9dfb-4573-8934-1958396937bf",
         "138",
         "Shirt",
         "False"
        ],
        [
         "7",
         "4c8f245e-a039-46fd-a6b9-1bb51e83fc05",
         "226",
         "T-Shirt",
         "False"
        ],
        [
         "8",
         "c995c900-693d-4dd6-8995-43f3051ec488",
         "337",
         "Pants",
         "False"
        ],
        [
         "9",
         "bf78527f-0734-44fd-a968-f6c32c12d61e",
         "175",
         "Shoes",
         "False"
        ],
        [
         "10",
         "70045b01-b350-4918-be74-2f627290ad7a",
         "95",
         "Skirt",
         "False"
        ],
        [
         "11",
         "61bbb3a2-2ee0-47bd-b3f9-2675b3076302",
         "293",
         "Shoes",
         "False"
        ],
        [
         "12",
         "08215318-faff-4037-bee9-5bceb0af7747",
         "29",
         "Shoes",
         "False"
        ],
        [
         "13",
         "8659edca-30a6-4cd2-b2f0-8c9358f2a785",
         "150",
         "Other",
         "False"
        ],
        [
         "14",
         "95609fcf-b2c2-4f35-8454-a308262e30ea",
         "185",
         "T-Shirt",
         "False"
        ],
        [
         "15",
         "71c85a46-6bf9-4929-a141-386d07bbe139",
         "216",
         "Other",
         "True"
        ],
        [
         "16",
         "04b42565-23ce-47d9-8f11-e3f1fb0d5051",
         "82",
         "Top",
         "False"
        ],
        [
         "17",
         "5dcffea5-5111-4397-b9ed-313b41bdeea8",
         "211",
         "Shorts",
         "False"
        ],
        [
         "18",
         "1b2ace0a-382e-4b87-8e9d-35cbcfac636b",
         "186",
         "Outwear",
         "False"
        ],
        [
         "19",
         "d44cfac9-3fda-47ba-8eb1-8b130f60b08c",
         "217",
         "Skirt",
         "False"
        ],
        [
         "20",
         "97074b7f-706a-4c17-b875-bd9baa5bed0e",
         "128",
         "Pants",
         "False"
        ],
        [
         "21",
         "6ba8aeb1-a812-4bd7-a0b3-d898aebe3400",
         "211",
         "Top",
         "False"
        ],
        [
         "22",
         "e3c8e575-c5b8-4c4c-9f49-62b37b611b6b",
         "174",
         "Dress",
         "False"
        ],
        [
         "23",
         "534cb9e4-658e-48a9-a9d9-365149ee52e8",
         "16",
         "T-Shirt",
         "False"
        ],
        [
         "24",
         "e6a8b33f-279c-4072-8dba-229d94205e55",
         "65",
         "Dress",
         "False"
        ],
        [
         "25",
         "c327ee2e-ec85-4e50-8f8b-c0953fd0f394",
         "268",
         "Not sure",
         "False"
        ],
        [
         "26",
         "13aa07bd-cf38-4309-8dc2-daddffe43922",
         "312",
         "Body",
         "True"
        ],
        [
         "27",
         "5805e9ba-176c-461b-87f7-ff400291d0fc",
         "142",
         "Longsleeve",
         "False"
        ],
        [
         "28",
         "be698ba0-7a2c-4f38-84ea-6223dc15854d",
         "82",
         "T-Shirt",
         "True"
        ],
        [
         "29",
         "a3e5af58-cc70-48b8-85f7-cd160ba95968",
         "294",
         "Shoes",
         "False"
        ],
        [
         "30",
         "8f6822c3-862b-4126-9a35-585569aec240",
         "14",
         "Longsleeve",
         "False"
        ],
        [
         "31",
         "84a4a5a4-fb02-4009-916d-7e82d65c3e12",
         "233",
         "Pants",
         "False"
        ],
        [
         "32",
         "30feae84-c7b1-4e72-8b42-0f7736d42cd5",
         "224",
         "Shoes",
         "False"
        ],
        [
         "33",
         "f968404d-6c3a-465e-9edd-347784880455",
         "33",
         "T-Shirt",
         "False"
        ],
        [
         "34",
         "f8b84112-9110-4628-91e8-9d22a13767f3",
         "148",
         "Skirt",
         "False"
        ],
        [
         "35",
         "c395de85-824c-4cbe-ad6b-ed80f5c15fb7",
         "329",
         "T-Shirt",
         "False"
        ],
        [
         "36",
         "ede278ac-9b59-4d21-b456-ec35d9cc0300",
         "252",
         "Not sure",
         "False"
        ],
        [
         "37",
         "5dc34a85-d7f8-45bc-b922-2eae1a704f4b",
         "113",
         "Shorts",
         "False"
        ],
        [
         "38",
         "4acdd295-b0b4-4991-a6cd-c9d2c322c347",
         "190",
         "T-Shirt",
         "False"
        ],
        [
         "39",
         "f2ae0355-82ec-4363-ac61-470d7f422a45",
         "18",
         "Undershirt",
         "False"
        ],
        [
         "40",
         "073f2d48-e363-474d-acbe-11103356e7e2",
         "180",
         "Pants",
         "True"
        ],
        [
         "41",
         "a283e901-d8da-4be1-91ae-2a3c94de48a2",
         "167",
         "Hat",
         "False"
        ],
        [
         "42",
         "30b6fd9b-d172-4d5d-a1c1-c36d23f769dd",
         "137",
         "Shoes",
         "False"
        ],
        [
         "43",
         "d7c86d5d-0d38-4b69-8bc9-853784feca22",
         "219",
         "Not sure",
         "False"
        ],
        [
         "44",
         "d8445328-a318-434b-9c4e-fa29cf04be41",
         "142",
         "Shirt",
         "False"
        ],
        [
         "45",
         "5f2c69cd-918b-4ee0-9e74-7fa12d5095ab",
         "57",
         "Shorts",
         "False"
        ],
        [
         "46",
         "c4f11a12-2fcd-4268-8045-5a00aec7e656",
         "308",
         "Pants",
         "False"
        ],
        [
         "47",
         "330f1f98-0d3d-4c64-bd82-518e6e157d08",
         "66",
         "T-Shirt",
         "False"
        ],
        [
         "48",
         "fb145f9c-024a-4177-ae55-4ef413756ee9",
         "116",
         "T-Shirt",
         "False"
        ],
        [
         "49",
         "e85b5945-e8d0-4049-84b4-22ff5907ec8e",
         "59",
         "Longsleeve",
         "False"
        ]
       ],
       "shape": {
        "columns": 4,
        "rows": 5403
       }
      },
      "text/html": [
       "<div>\n",
       "<style scoped>\n",
       "    .dataframe tbody tr th:only-of-type {\n",
       "        vertical-align: middle;\n",
       "    }\n",
       "\n",
       "    .dataframe tbody tr th {\n",
       "        vertical-align: top;\n",
       "    }\n",
       "\n",
       "    .dataframe thead th {\n",
       "        text-align: right;\n",
       "    }\n",
       "</style>\n",
       "<table border=\"1\" class=\"dataframe\">\n",
       "  <thead>\n",
       "    <tr style=\"text-align: right;\">\n",
       "      <th></th>\n",
       "      <th>image</th>\n",
       "      <th>sender_id</th>\n",
       "      <th>label</th>\n",
       "      <th>kids</th>\n",
       "    </tr>\n",
       "  </thead>\n",
       "  <tbody>\n",
       "    <tr>\n",
       "      <th>0</th>\n",
       "      <td>4285fab0-751a-4b74-8e9b-43af05deee22</td>\n",
       "      <td>124</td>\n",
       "      <td>Not sure</td>\n",
       "      <td>False</td>\n",
       "    </tr>\n",
       "    <tr>\n",
       "      <th>1</th>\n",
       "      <td>ea7b6656-3f84-4eb3-9099-23e623fc1018</td>\n",
       "      <td>148</td>\n",
       "      <td>T-Shirt</td>\n",
       "      <td>False</td>\n",
       "    </tr>\n",
       "    <tr>\n",
       "      <th>2</th>\n",
       "      <td>00627a3f-0477-401c-95eb-92642cbe078d</td>\n",
       "      <td>94</td>\n",
       "      <td>Not sure</td>\n",
       "      <td>False</td>\n",
       "    </tr>\n",
       "    <tr>\n",
       "      <th>3</th>\n",
       "      <td>ea2ffd4d-9b25-4ca8-9dc2-bd27f1cc59fa</td>\n",
       "      <td>43</td>\n",
       "      <td>T-Shirt</td>\n",
       "      <td>False</td>\n",
       "    </tr>\n",
       "    <tr>\n",
       "      <th>4</th>\n",
       "      <td>3b86d877-2b9e-4c8b-a6a2-1d87513309d0</td>\n",
       "      <td>189</td>\n",
       "      <td>Shoes</td>\n",
       "      <td>False</td>\n",
       "    </tr>\n",
       "    <tr>\n",
       "      <th>...</th>\n",
       "      <td>...</td>\n",
       "      <td>...</td>\n",
       "      <td>...</td>\n",
       "      <td>...</td>\n",
       "    </tr>\n",
       "    <tr>\n",
       "      <th>5398</th>\n",
       "      <td>dfd4079d-967b-4b3e-8574-fbac11b58103</td>\n",
       "      <td>204</td>\n",
       "      <td>Shorts</td>\n",
       "      <td>False</td>\n",
       "    </tr>\n",
       "    <tr>\n",
       "      <th>5399</th>\n",
       "      <td>befa14be-8140-4faf-8061-1039947e329d</td>\n",
       "      <td>204</td>\n",
       "      <td>Body</td>\n",
       "      <td>True</td>\n",
       "    </tr>\n",
       "    <tr>\n",
       "      <th>5400</th>\n",
       "      <td>5379356a-40ee-4890-b416-2336a7d84061</td>\n",
       "      <td>310</td>\n",
       "      <td>Shorts</td>\n",
       "      <td>False</td>\n",
       "    </tr>\n",
       "    <tr>\n",
       "      <th>5401</th>\n",
       "      <td>65507fb8-3456-4c15-b53e-d1b03bf71a59</td>\n",
       "      <td>204</td>\n",
       "      <td>Shoes</td>\n",
       "      <td>False</td>\n",
       "    </tr>\n",
       "    <tr>\n",
       "      <th>5402</th>\n",
       "      <td>32b99302-cec7-4dec-adfa-3d4029674209</td>\n",
       "      <td>204</td>\n",
       "      <td>Skirt</td>\n",
       "      <td>False</td>\n",
       "    </tr>\n",
       "  </tbody>\n",
       "</table>\n",
       "<p>5403 rows × 4 columns</p>\n",
       "</div>"
      ],
      "text/plain": [
       "                                     image  sender_id     label   kids\n",
       "0     4285fab0-751a-4b74-8e9b-43af05deee22        124  Not sure  False\n",
       "1     ea7b6656-3f84-4eb3-9099-23e623fc1018        148   T-Shirt  False\n",
       "2     00627a3f-0477-401c-95eb-92642cbe078d         94  Not sure  False\n",
       "3     ea2ffd4d-9b25-4ca8-9dc2-bd27f1cc59fa         43   T-Shirt  False\n",
       "4     3b86d877-2b9e-4c8b-a6a2-1d87513309d0        189     Shoes  False\n",
       "...                                    ...        ...       ...    ...\n",
       "5398  dfd4079d-967b-4b3e-8574-fbac11b58103        204    Shorts  False\n",
       "5399  befa14be-8140-4faf-8061-1039947e329d        204      Body   True\n",
       "5400  5379356a-40ee-4890-b416-2336a7d84061        310    Shorts  False\n",
       "5401  65507fb8-3456-4c15-b53e-d1b03bf71a59        204     Shoes  False\n",
       "5402  32b99302-cec7-4dec-adfa-3d4029674209        204     Skirt  False\n",
       "\n",
       "[5403 rows x 4 columns]"
      ]
     },
     "execution_count": 6,
     "metadata": {},
     "output_type": "execute_result"
    }
   ],
   "source": [
    "csv_df"
   ]
  },
  {
   "cell_type": "code",
   "execution_count": 9,
   "metadata": {},
   "outputs": [],
   "source": [
    "csv_df = csv_df.dropna()\n",
    "csv_df = csv_df.drop_duplicates()\n",
    "csv_df = csv_df.drop(columns=[\"sender_id\", \"kids\"])"
   ]
  },
  {
   "cell_type": "code",
   "execution_count": 10,
   "metadata": {},
   "outputs": [
    {
     "data": {
      "application/vnd.microsoft.datawrangler.viewer.v0+json": {
       "columns": [
        {
         "name": "index",
         "rawType": "int64",
         "type": "integer"
        },
        {
         "name": "image",
         "rawType": "object",
         "type": "string"
        },
        {
         "name": "label",
         "rawType": "object",
         "type": "string"
        }
       ],
       "conversionMethod": "pd.DataFrame",
       "ref": "3daa395d-ed89-4182-8373-308c6c7dda53",
       "rows": [
        [
         "0",
         "4285fab0-751a-4b74-8e9b-43af05deee22",
         "Not sure"
        ],
        [
         "1",
         "ea7b6656-3f84-4eb3-9099-23e623fc1018",
         "T-Shirt"
        ],
        [
         "2",
         "00627a3f-0477-401c-95eb-92642cbe078d",
         "Not sure"
        ],
        [
         "3",
         "ea2ffd4d-9b25-4ca8-9dc2-bd27f1cc59fa",
         "T-Shirt"
        ],
        [
         "4",
         "3b86d877-2b9e-4c8b-a6a2-1d87513309d0",
         "Shoes"
        ],
        [
         "5",
         "5d3a1404-697f-479f-9090-c1ecd0413d27",
         "Shorts"
        ],
        [
         "6",
         "b0c03127-9dfb-4573-8934-1958396937bf",
         "Shirt"
        ],
        [
         "7",
         "4c8f245e-a039-46fd-a6b9-1bb51e83fc05",
         "T-Shirt"
        ],
        [
         "8",
         "c995c900-693d-4dd6-8995-43f3051ec488",
         "Pants"
        ],
        [
         "9",
         "bf78527f-0734-44fd-a968-f6c32c12d61e",
         "Shoes"
        ],
        [
         "10",
         "70045b01-b350-4918-be74-2f627290ad7a",
         "Skirt"
        ],
        [
         "11",
         "61bbb3a2-2ee0-47bd-b3f9-2675b3076302",
         "Shoes"
        ],
        [
         "12",
         "08215318-faff-4037-bee9-5bceb0af7747",
         "Shoes"
        ],
        [
         "13",
         "8659edca-30a6-4cd2-b2f0-8c9358f2a785",
         "Other"
        ],
        [
         "14",
         "95609fcf-b2c2-4f35-8454-a308262e30ea",
         "T-Shirt"
        ],
        [
         "15",
         "71c85a46-6bf9-4929-a141-386d07bbe139",
         "Other"
        ],
        [
         "16",
         "04b42565-23ce-47d9-8f11-e3f1fb0d5051",
         "Top"
        ],
        [
         "17",
         "5dcffea5-5111-4397-b9ed-313b41bdeea8",
         "Shorts"
        ],
        [
         "18",
         "1b2ace0a-382e-4b87-8e9d-35cbcfac636b",
         "Outwear"
        ],
        [
         "19",
         "d44cfac9-3fda-47ba-8eb1-8b130f60b08c",
         "Skirt"
        ],
        [
         "20",
         "97074b7f-706a-4c17-b875-bd9baa5bed0e",
         "Pants"
        ],
        [
         "21",
         "6ba8aeb1-a812-4bd7-a0b3-d898aebe3400",
         "Top"
        ],
        [
         "22",
         "e3c8e575-c5b8-4c4c-9f49-62b37b611b6b",
         "Dress"
        ],
        [
         "23",
         "534cb9e4-658e-48a9-a9d9-365149ee52e8",
         "T-Shirt"
        ],
        [
         "24",
         "e6a8b33f-279c-4072-8dba-229d94205e55",
         "Dress"
        ],
        [
         "25",
         "c327ee2e-ec85-4e50-8f8b-c0953fd0f394",
         "Not sure"
        ],
        [
         "26",
         "13aa07bd-cf38-4309-8dc2-daddffe43922",
         "Body"
        ],
        [
         "27",
         "5805e9ba-176c-461b-87f7-ff400291d0fc",
         "Longsleeve"
        ],
        [
         "28",
         "be698ba0-7a2c-4f38-84ea-6223dc15854d",
         "T-Shirt"
        ],
        [
         "29",
         "a3e5af58-cc70-48b8-85f7-cd160ba95968",
         "Shoes"
        ],
        [
         "30",
         "8f6822c3-862b-4126-9a35-585569aec240",
         "Longsleeve"
        ],
        [
         "31",
         "84a4a5a4-fb02-4009-916d-7e82d65c3e12",
         "Pants"
        ],
        [
         "32",
         "30feae84-c7b1-4e72-8b42-0f7736d42cd5",
         "Shoes"
        ],
        [
         "33",
         "f968404d-6c3a-465e-9edd-347784880455",
         "T-Shirt"
        ],
        [
         "34",
         "f8b84112-9110-4628-91e8-9d22a13767f3",
         "Skirt"
        ],
        [
         "35",
         "c395de85-824c-4cbe-ad6b-ed80f5c15fb7",
         "T-Shirt"
        ],
        [
         "36",
         "ede278ac-9b59-4d21-b456-ec35d9cc0300",
         "Not sure"
        ],
        [
         "37",
         "5dc34a85-d7f8-45bc-b922-2eae1a704f4b",
         "Shorts"
        ],
        [
         "38",
         "4acdd295-b0b4-4991-a6cd-c9d2c322c347",
         "T-Shirt"
        ],
        [
         "39",
         "f2ae0355-82ec-4363-ac61-470d7f422a45",
         "Undershirt"
        ],
        [
         "40",
         "073f2d48-e363-474d-acbe-11103356e7e2",
         "Pants"
        ],
        [
         "41",
         "a283e901-d8da-4be1-91ae-2a3c94de48a2",
         "Hat"
        ],
        [
         "42",
         "30b6fd9b-d172-4d5d-a1c1-c36d23f769dd",
         "Shoes"
        ],
        [
         "43",
         "d7c86d5d-0d38-4b69-8bc9-853784feca22",
         "Not sure"
        ],
        [
         "44",
         "d8445328-a318-434b-9c4e-fa29cf04be41",
         "Shirt"
        ],
        [
         "45",
         "5f2c69cd-918b-4ee0-9e74-7fa12d5095ab",
         "Shorts"
        ],
        [
         "46",
         "c4f11a12-2fcd-4268-8045-5a00aec7e656",
         "Pants"
        ],
        [
         "47",
         "330f1f98-0d3d-4c64-bd82-518e6e157d08",
         "T-Shirt"
        ],
        [
         "48",
         "fb145f9c-024a-4177-ae55-4ef413756ee9",
         "T-Shirt"
        ],
        [
         "49",
         "e85b5945-e8d0-4049-84b4-22ff5907ec8e",
         "Longsleeve"
        ]
       ],
       "shape": {
        "columns": 2,
        "rows": 5403
       }
      },
      "text/html": [
       "<div>\n",
       "<style scoped>\n",
       "    .dataframe tbody tr th:only-of-type {\n",
       "        vertical-align: middle;\n",
       "    }\n",
       "\n",
       "    .dataframe tbody tr th {\n",
       "        vertical-align: top;\n",
       "    }\n",
       "\n",
       "    .dataframe thead th {\n",
       "        text-align: right;\n",
       "    }\n",
       "</style>\n",
       "<table border=\"1\" class=\"dataframe\">\n",
       "  <thead>\n",
       "    <tr style=\"text-align: right;\">\n",
       "      <th></th>\n",
       "      <th>image</th>\n",
       "      <th>label</th>\n",
       "    </tr>\n",
       "  </thead>\n",
       "  <tbody>\n",
       "    <tr>\n",
       "      <th>0</th>\n",
       "      <td>4285fab0-751a-4b74-8e9b-43af05deee22</td>\n",
       "      <td>Not sure</td>\n",
       "    </tr>\n",
       "    <tr>\n",
       "      <th>1</th>\n",
       "      <td>ea7b6656-3f84-4eb3-9099-23e623fc1018</td>\n",
       "      <td>T-Shirt</td>\n",
       "    </tr>\n",
       "    <tr>\n",
       "      <th>2</th>\n",
       "      <td>00627a3f-0477-401c-95eb-92642cbe078d</td>\n",
       "      <td>Not sure</td>\n",
       "    </tr>\n",
       "    <tr>\n",
       "      <th>3</th>\n",
       "      <td>ea2ffd4d-9b25-4ca8-9dc2-bd27f1cc59fa</td>\n",
       "      <td>T-Shirt</td>\n",
       "    </tr>\n",
       "    <tr>\n",
       "      <th>4</th>\n",
       "      <td>3b86d877-2b9e-4c8b-a6a2-1d87513309d0</td>\n",
       "      <td>Shoes</td>\n",
       "    </tr>\n",
       "    <tr>\n",
       "      <th>...</th>\n",
       "      <td>...</td>\n",
       "      <td>...</td>\n",
       "    </tr>\n",
       "    <tr>\n",
       "      <th>5398</th>\n",
       "      <td>dfd4079d-967b-4b3e-8574-fbac11b58103</td>\n",
       "      <td>Shorts</td>\n",
       "    </tr>\n",
       "    <tr>\n",
       "      <th>5399</th>\n",
       "      <td>befa14be-8140-4faf-8061-1039947e329d</td>\n",
       "      <td>Body</td>\n",
       "    </tr>\n",
       "    <tr>\n",
       "      <th>5400</th>\n",
       "      <td>5379356a-40ee-4890-b416-2336a7d84061</td>\n",
       "      <td>Shorts</td>\n",
       "    </tr>\n",
       "    <tr>\n",
       "      <th>5401</th>\n",
       "      <td>65507fb8-3456-4c15-b53e-d1b03bf71a59</td>\n",
       "      <td>Shoes</td>\n",
       "    </tr>\n",
       "    <tr>\n",
       "      <th>5402</th>\n",
       "      <td>32b99302-cec7-4dec-adfa-3d4029674209</td>\n",
       "      <td>Skirt</td>\n",
       "    </tr>\n",
       "  </tbody>\n",
       "</table>\n",
       "<p>5403 rows × 2 columns</p>\n",
       "</div>"
      ],
      "text/plain": [
       "                                     image     label\n",
       "0     4285fab0-751a-4b74-8e9b-43af05deee22  Not sure\n",
       "1     ea7b6656-3f84-4eb3-9099-23e623fc1018   T-Shirt\n",
       "2     00627a3f-0477-401c-95eb-92642cbe078d  Not sure\n",
       "3     ea2ffd4d-9b25-4ca8-9dc2-bd27f1cc59fa   T-Shirt\n",
       "4     3b86d877-2b9e-4c8b-a6a2-1d87513309d0     Shoes\n",
       "...                                    ...       ...\n",
       "5398  dfd4079d-967b-4b3e-8574-fbac11b58103    Shorts\n",
       "5399  befa14be-8140-4faf-8061-1039947e329d      Body\n",
       "5400  5379356a-40ee-4890-b416-2336a7d84061    Shorts\n",
       "5401  65507fb8-3456-4c15-b53e-d1b03bf71a59     Shoes\n",
       "5402  32b99302-cec7-4dec-adfa-3d4029674209     Skirt\n",
       "\n",
       "[5403 rows x 2 columns]"
      ]
     },
     "execution_count": 10,
     "metadata": {},
     "output_type": "execute_result"
    }
   ],
   "source": [
    "csv_df"
   ]
  },
  {
   "cell_type": "code",
   "execution_count": null,
   "metadata": {},
   "outputs": [],
   "source": []
  }
 ],
 "metadata": {
  "kernelspec": {
   "display_name": ".venv",
   "language": "python",
   "name": "python3"
  },
  "language_info": {
   "codemirror_mode": {
    "name": "ipython",
    "version": 3
   },
   "file_extension": ".py",
   "mimetype": "text/x-python",
   "name": "python",
   "nbconvert_exporter": "python",
   "pygments_lexer": "ipython3",
   "version": "3.12.3"
  }
 },
 "nbformat": 4,
 "nbformat_minor": 2
}
