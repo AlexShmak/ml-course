{
 "cells": [
  {
   "metadata": {},
   "cell_type": "markdown",
   "source": "# Задача 6: Нейронные сети",
   "id": "ed14a34e36c89cad"
  },
  {
   "metadata": {
    "ExecuteTime": {
     "end_time": "2025-04-04T00:23:42.303961Z",
     "start_time": "2025-04-04T00:23:41.888401Z"
    }
   },
   "cell_type": "code",
   "source": [
    "import os\n",
    "import kagglehub\n",
    "\n",
    "path = kagglehub.dataset_download(\"zalando-research/fashionmnist\")\n",
    "path_to_train_csv = os.path.join(path, \"fashion-mnist_train.csv\")\n",
    "path_to_test_csv = os.path.join(path, \"fashion-mnist_test.csv\")"
   ],
   "id": "d61e13cd56ae1d97",
   "outputs": [],
   "execution_count": 3
  },
  {
   "metadata": {
    "ExecuteTime": {
     "end_time": "2025-04-04T00:21:36.604562Z",
     "start_time": "2025-04-04T00:21:36.602930Z"
    }
   },
   "cell_type": "code",
   "source": "",
   "id": "134d2aabf1ab7812",
   "outputs": [],
   "execution_count": null
  }
 ],
 "metadata": {
  "kernelspec": {
   "display_name": "Python 3",
   "language": "python",
   "name": "python3"
  },
  "language_info": {
   "codemirror_mode": {
    "name": "ipython",
    "version": 2
   },
   "file_extension": ".py",
   "mimetype": "text/x-python",
   "name": "python",
   "nbconvert_exporter": "python",
   "pygments_lexer": "ipython2",
   "version": "2.7.6"
  }
 },
 "nbformat": 4,
 "nbformat_minor": 5
}
