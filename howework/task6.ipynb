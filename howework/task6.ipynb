{
 "cells": [
  {
   "metadata": {},
   "cell_type": "markdown",
   "source": "# Задача 6: Нейронные сети",
   "id": "ed14a34e36c89cad"
  },
  {
   "metadata": {},
   "cell_type": "markdown",
   "source": [
    "- [X] Найти данные в виде изображений для задачи классификации. Например, можно взять данные [отсюда](http://ufldl.stanford.edu/housenumbers/).\n",
    "- [ ] Реализовать классы, необходимые для построения сети со следующими слоями\n",
    "\t- FullyConnectedLayer\n",
    "\t- ReluLayer\n",
    "\t- FullyConnectedLayer\n",
    "- [ ] Использовать CrossEntropyLoss и L2-регуляризацию.\n",
    "- [ ] Обучить модель на тренировочных данных, подбирать параметры (особенно learning rate) на валидационной и оценить качество на тестовой. Анализировать графики train/val loss, проверять на каждом шаге корректность вычисления градиентов с помощью разностной оценки.\n",
    "- [ ] * (**+2 балла**) Добавить Batch normalization.\n",
    "- [ ] * (**+2 балла**) В качестве оптимизатор использовать один из: Momentum, RMSprop.\n",
    "- [ ] * (**+1 балл**) Также реализовать оптимизатор Adam."
   ],
   "id": "75845720e82b1036"
  },
  {
   "metadata": {
    "ExecuteTime": {
     "end_time": "2025-04-04T00:23:42.303961Z",
     "start_time": "2025-04-04T00:23:41.888401Z"
    }
   },
   "cell_type": "code",
   "source": [
    "import os\n",
    "import kagglehub\n",
    "\n",
    "path = kagglehub.dataset_download(\"zalando-research/fashionmnist\")\n",
    "path_to_train_csv = os.path.join(path, \"fashion-mnist_train.csv\")\n",
    "path_to_test_csv = os.path.join(path, \"fashion-mnist_test.csv\")"
   ],
   "id": "d61e13cd56ae1d97",
   "outputs": [],
   "execution_count": 3
  },
  {
   "metadata": {
    "ExecuteTime": {
     "end_time": "2025-04-04T00:21:36.604562Z",
     "start_time": "2025-04-04T00:21:36.602930Z"
    }
   },
   "cell_type": "code",
   "source": "",
   "id": "134d2aabf1ab7812",
   "outputs": [],
   "execution_count": null
  }
 ],
 "metadata": {
  "kernelspec": {
   "display_name": "Python 3",
   "language": "python",
   "name": "python3"
  },
  "language_info": {
   "codemirror_mode": {
    "name": "ipython",
    "version": 2
   },
   "file_extension": ".py",
   "mimetype": "text/x-python",
   "name": "python",
   "nbconvert_exporter": "python",
   "pygments_lexer": "ipython2",
   "version": "2.7.6"
  }
 },
 "nbformat": 4,
 "nbformat_minor": 5
}
