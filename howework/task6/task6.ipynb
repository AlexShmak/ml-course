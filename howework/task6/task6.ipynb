{
 "cells": [
  {
   "metadata": {},
   "cell_type": "code",
   "source": [
    "import os\n",
    "\n",
    "import kagglehub\n",
    "import pandas as pd\n",
    "import seaborn as sns\n",
    "from matplotlib import pyplot as plt\n",
    "from sklearn.metrics import accuracy_score\n",
    "\n",
    "from howework.task6.utils.gradient_check import modify_fit_with_gradient_check\n",
    "from howework.task6.utils.hyperparameters_search import grid_search_hyperparameters, create_neural_network, \\\n",
    "    visualize_hyperparameter_search, visualize_best_model_training\n",
    "from howework.task6.utils.layer import FullyConnected, ReLU, BatchNorm\n",
    "from howework.task6.utils.nn import NeuralNetwork"
   ],
   "id": "e9eb60037fb324d",
   "outputs": [],
   "execution_count": null
  },
  {
   "metadata": {
    "collapsed": true
   },
   "cell_type": "code",
   "source": [
    "path = kagglehub.dataset_download(\"zalando-research/fashionmnist\")\n",
    "path_to_train_csv = os.path.join(path, \"fashion-mnist_train.csv\")\n",
    "path_to_test_csv = os.path.join(path, \"fashion-mnist_test.csv\")\n",
    "\n",
    "train_df = pd.read_csv(path_to_train_csv)\n",
    "test_df = pd.read_csv(path_to_test_csv)"
   ],
   "id": "initial_id",
   "outputs": [],
   "execution_count": null
  },
  {
   "metadata": {},
   "cell_type": "code",
   "source": "train_df.head()",
   "id": "f36950582e1573b4",
   "outputs": [],
   "execution_count": null
  },
  {
   "metadata": {},
   "cell_type": "code",
   "source": [
    "classes_num = len(train_df[\"label\"].unique())\n",
    "train_labels = train_df[\"label\"].to_numpy()\n",
    "train_images_normalized = train_df.drop(\"label\", axis=1).to_numpy() / 255.0\n",
    "\n",
    "classes_num, train_labels.shape, train_images_normalized.shape"
   ],
   "id": "a9411a8f690fc059",
   "outputs": [],
   "execution_count": null
  },
  {
   "metadata": {},
   "cell_type": "code",
   "source": [
    "input_num = train_images_normalized.shape[1]\n",
    "hidden_num = 256\n",
    "\n",
    "nn = NeuralNetwork()\n",
    "nn.build(\n",
    "    FullyConnected(input_num, hidden_num),\n",
    "    ReLU(),\n",
    "    BatchNorm(hidden_num),\n",
    "    FullyConnected(hidden_num, classes_num),\n",
    ")"
   ],
   "id": "cf29ab55f5351582",
   "outputs": [],
   "execution_count": null
  },
  {
   "metadata": {},
   "cell_type": "code",
   "source": "nn.fit(train_images_normalized, train_labels)",
   "id": "c4f445ac9ff0d56f",
   "outputs": [],
   "execution_count": null
  },
  {
   "metadata": {},
   "cell_type": "code",
   "source": [
    "loss_history = nn.loss_history\n",
    "accuracy_history = nn.accuracy_history"
   ],
   "id": "f9b69dfaa30ef32f",
   "outputs": [],
   "execution_count": null
  },
  {
   "metadata": {},
   "cell_type": "code",
   "source": [
    "sns.set_theme(style=\"whitegrid\")\n",
    "\n",
    "# Create a figure with 1 row and 2 columns\n",
    "fig, axes = plt.subplots(1, 2, figsize=(12, 4))\n",
    "\n",
    "# Plot loss\n",
    "sns.lineplot(ax=axes[0], data=loss_history, color='blue')\n",
    "axes[0].set_title(\"Loss over Time\")\n",
    "axes[0].set_xlabel(\"Epoch\")\n",
    "axes[0].set_ylabel(\"Loss\")\n",
    "\n",
    "# Plot accuracy\n",
    "sns.lineplot(ax=axes[1], data=accuracy_history, color='green')\n",
    "axes[1].set_title(\"Accuracy over Time\")\n",
    "axes[1].set_xlabel(\"Epoch\")\n",
    "axes[1].set_ylabel(\"Accuracy\")\n",
    "\n",
    "plt.tight_layout()\n",
    "plt.show()"
   ],
   "id": "7f380592fd77cd98",
   "outputs": [],
   "execution_count": null
  },
  {
   "metadata": {},
   "cell_type": "code",
   "source": [
    "test_labels = test_df[\"label\"].to_numpy()\n",
    "test_images_normalized = test_df.drop(\"label\", axis=1).to_numpy() / 255.0\n",
    "\n",
    "accuracy = accuracy_score(test_labels, nn.predict(test_images_normalized))\n",
    "accuracy"
   ],
   "id": "49f4d582957852f",
   "outputs": [],
   "execution_count": null
  },
  {
   "metadata": {},
   "cell_type": "code",
   "source": [
    "original_fit = modify_fit_with_gradient_check(nn)\n",
    "nn.fit(train_images_normalized, train_labels)"
   ],
   "id": "6948a3331c995a44",
   "outputs": [],
   "execution_count": null
  },
  {
   "metadata": {},
   "cell_type": "code",
   "source": [
    "# Run grid search\n",
    "best_params, best_model, results = grid_search_hyperparameters(\n",
    "    train_images_normalized, train_labels, test_images_normalized, test_labels,\n",
    "    classes_num=10,  # Number of classes in your dataset\n",
    "    nn_model_factory=create_neural_network\n",
    ")\n",
    "\n",
    "# Visualize results\n",
    "visualize_hyperparameter_search(results, 'learning_rate')\n",
    "visualize_hyperparameter_search(results, 'hidden_neurons_num')\n",
    "visualize_hyperparameter_search(results, 'reg_strength')\n",
    "visualize_hyperparameter_search(results, 'batch_size')\n",
    "visualize_hyperparameter_search(results, 'optimizer')\n",
    "\n",
    "# Visualize best model training history\n",
    "visualize_best_model_training(best_model)"
   ],
   "id": "c76f70ab24d1bb15",
   "outputs": [],
   "execution_count": null
  }
 ],
 "metadata": {
  "kernelspec": {
   "display_name": "Python 3",
   "language": "python",
   "name": "python3"
  },
  "language_info": {
   "codemirror_mode": {
    "name": "ipython",
    "version": 2
   },
   "file_extension": ".py",
   "mimetype": "text/x-python",
   "name": "python",
   "nbconvert_exporter": "python",
   "pygments_lexer": "ipython2",
   "version": "2.7.6"
  }
 },
 "nbformat": 4,
 "nbformat_minor": 5
}
